{
 "cells": [
  {
   "cell_type": "markdown",
   "metadata": {},
   "source": [
    "# Detection"
   ]
  },
  {
   "cell_type": "code",
   "execution_count": 5,
   "metadata": {},
   "outputs": [],
   "source": [
    "# common imports\n",
    "from __future__ import absolute_import\n",
    "from __future__ import division\n",
    "from __future__ import print_function\n",
    "\n",
    "import time\n",
    "\n",
    "import matplotlib.pyplot as plt\n",
    "import mxnet as mx\n",
    "import numpy as np"
   ]
  },
  {
   "cell_type": "code",
   "execution_count": 6,
   "metadata": {},
   "outputs": [],
   "source": [
    "# Camera imports\n",
    "from picamera import PiCamera\n",
    "from PIL import Image\n",
    "import io"
   ]
  },
  {
   "cell_type": "code",
   "execution_count": 7,
   "metadata": {},
   "outputs": [],
   "source": [
    "# SSD imports\n",
    "import gluoncv as gcv\n",
    "\n",
    "from scipy import ndimage\n",
    "\n",
    "from mxnet import nd\n",
    "from gluoncv.model_zoo import get_model"
   ]
  },
  {
   "cell_type": "code",
   "execution_count": 8,
   "metadata": {},
   "outputs": [],
   "source": [
    "# MTCNN imports\n",
    "#import cv2\n",
    "import sys\n",
    "import os\n",
    "from scipy import misc\n",
    "import random\n",
    "\n",
    "from easydict import EasyDict as edict\n",
    "from ArcFace.mtcnn_detector import MtcnnDetector\n",
    "\n",
    "from mxnet.contrib.onnx.onnx2mx.import_model import import_model\n"
   ]
  },
  {
   "cell_type": "markdown",
   "metadata": {},
   "source": [
    "## Face Detetion"
   ]
  },
  {
   "cell_type": "code",
   "execution_count": 9,
   "metadata": {},
   "outputs": [],
   "source": [
    "# Download model\n",
    "for i in range(4):\n",
    "    mx.test_utils.download(dirname='ArcFace/mtcnn-model', url='https://s3.amazonaws.com/onnx-model-zoo/arcface/mtcnn-model/det{}-0001.params'.format(i+1))\n",
    "    mx.test_utils.download(dirname='ArcFace/mtcnn-model', url='https://s3.amazonaws.com/onnx-model-zoo/arcface/mtcnn-model/det{}-symbol.json'.format(i+1))\n",
    "\n",
    "# Determine and set context\n",
    "ctx = mx.cpu()\n",
    "det_threshold = [0.6,0.7,0.8]\n",
    "mtcnn_path = os.path.join(os.path.dirname('__file__'), 'ArcFace/mtcnn-model')\n",
    "detector = MtcnnDetector(model_folder=mtcnn_path, ctx=ctx, num_worker=1, accurate_landmark = False, threshold=det_threshold)"
   ]
  },
  {
   "cell_type": "markdown",
   "metadata": {},
   "source": [
    "### Testing loop"
   ]
  },
  {
   "cell_type": "code",
   "execution_count": 10,
   "metadata": {},
   "outputs": [],
   "source": [
    "from Robot import Robot"
   ]
  },
  {
   "cell_type": "code",
   "execution_count": 11,
   "metadata": {},
   "outputs": [
    {
     "name": "stdout",
     "output_type": "stream",
     "text": [
      "('Report logged', 'SERVO::Move channel 0 to 50 percent. Value of 375')\n",
      "('Report logged', 'SERVO::Move channel 1 to 50 percent. Value of 375')\n",
      "('Report logged', 'SERVO::Move channel 2 to 10 percent. Value of 195')\n",
      "('Report logged', 'SERVO::Move channel 3 to 57 percent. Value of 406')\n",
      "('Report logged', 'SERVO::Move channel 4 to 70 percent. Value of 465')\n",
      "('Report logged', 'SERVO::Move channel 5 to 10 percent. Value of 195')\n"
     ]
    }
   ],
   "source": [
    "robot = Robot()"
   ]
  },
  {
   "cell_type": "code",
   "execution_count": 12,
   "metadata": {},
   "outputs": [],
   "source": [
    "import time, threading"
   ]
  },
  {
   "cell_type": "code",
   "execution_count": 34,
   "metadata": {},
   "outputs": [],
   "source": []
  },
  {
   "cell_type": "code",
   "execution_count": 36,
   "metadata": {},
   "outputs": [
    {
     "name": "stdout",
     "output_type": "stream",
     "text": [
      "CPU times: user 17 µs, sys: 0 ns, total: 17 µs\n",
      "Wall time: 31.9 µs\n",
      "1537448803.0\n",
      "New value 43.7138972673\n",
      "('Report logged', 'SERVO::Move channel 0 to 27.0243082306 percent. Value of 271')\n",
      "('Report logged', 'SERVO::Move channel 0 to 27.8587876825 percent. Value of 275')\n",
      "('Report logged', 'SERVO::Move channel 0 to 28.6932671343 percent. Value of 279')\n",
      "('Report logged', 'SERVO::Move channel 0 to 29.5277465861 percent. Value of 282')\n",
      "('Report logged', 'SERVO::Move channel 0 to 30.3622260379 percent. Value of 286')\n",
      "('Report logged', 'SERVO::Move channel 0 to 31.1967054898 percent. Value of 290')\n",
      "('Report logged', 'SERVO::Move channel 0 to 32.0311849416 percent. Value of 294')\n",
      "('Report logged', 'SERVO::Move channel 0 to 32.8656643934 percent. Value of 297')\n",
      "('Report logged', 'SERVO::Move channel 0 to 33.7001438453 percent. Value of 301')\n",
      "('Report logged', 'SERVO::Move channel 0 to 34.5346232971 percent. Value of 305')\n",
      "('Report logged', 'SERVO::Move channel 0 to 35.3691027489 percent. Value of 309')\n",
      "('Report logged', 'SERVO::Move channel 0 to 36.2035822008 percent. Value of 312')\n",
      "('Report logged', 'SERVO::Move channel 0 to 37.0380616526 percent. Value of 316')\n",
      "('Report logged', 'SERVO::Move channel 0 to 37.8725411044 percent. Value of 320')\n",
      "('Report logged', 'SERVO::Move channel 0 to 38.7070205563 percent. Value of 324')\n",
      "('Report logged', 'SERVO::Move channel 0 to 39.5415000081 percent. Value of 327')\n",
      "('Report logged', 'SERVO::Move channel 0 to 40.3759794599 percent. Value of 331')\n",
      "('Report logged', 'SERVO::Move channel 0 to 41.2104589118 percent. Value of 335')\n",
      "('Report logged', 'SERVO::Move channel 0 to 42.0449383636 percent. Value of 339')\n",
      "('Report logged', 'SERVO::Move channel 0 to 42.8794178154 percent. Value of 342')\n",
      "('Report logged', 'SERVO::Move channel 0 to 43.7138972673 percent. Value of 346')\n",
      "1537448804.1\n"
     ]
    }
   ],
   "source": [
    "%time\n",
    "print(time.time())\n",
    "move_robot(robot, robot.LEFT_RIGHT, -0.4)"
   ]
  },
  {
   "cell_type": "code",
   "execution_count": 4,
   "metadata": {
    "scrolled": false
   },
   "outputs": [
    {
     "ename": "NameError",
     "evalue": "name 'PiCamera' is not defined",
     "output_type": "error",
     "traceback": [
      "\u001b[0;31m---------------------------------------------------------------------------\u001b[0m",
      "\u001b[0;31mNameError\u001b[0m                                 Traceback (most recent call last)",
      "\u001b[0;32m<ipython-input-4-9b1b7433af2d>\u001b[0m in \u001b[0;36m<module>\u001b[0;34m()\u001b[0m\n\u001b[0;32m----> 1\u001b[0;31m \u001b[0;32mwith\u001b[0m \u001b[0mPiCamera\u001b[0m\u001b[0;34m(\u001b[0m\u001b[0;34m)\u001b[0m \u001b[0;32mas\u001b[0m \u001b[0mcamera\u001b[0m\u001b[0;34m:\u001b[0m\u001b[0;34m\u001b[0m\u001b[0m\n\u001b[0m\u001b[1;32m      2\u001b[0m     \u001b[0;31m#camera.rotation = 180\u001b[0m\u001b[0;34m\u001b[0m\u001b[0;34m\u001b[0m\u001b[0m\n\u001b[1;32m      3\u001b[0m     \u001b[0mcamera\u001b[0m\u001b[0;34m.\u001b[0m\u001b[0mresolution\u001b[0m \u001b[0;34m=\u001b[0m \u001b[0;34m(\u001b[0m\u001b[0;36m341\u001b[0m\u001b[0;34m,\u001b[0m \u001b[0;36m256\u001b[0m\u001b[0;34m)\u001b[0m\u001b[0;34m\u001b[0m\u001b[0m\n\u001b[1;32m      4\u001b[0m     \u001b[0mtime\u001b[0m\u001b[0;34m.\u001b[0m\u001b[0msleep\u001b[0m\u001b[0;34m(\u001b[0m\u001b[0;36m1\u001b[0m\u001b[0;34m)\u001b[0m\u001b[0;34m\u001b[0m\u001b[0m\n\u001b[1;32m      5\u001b[0m     \u001b[0mstream\u001b[0m \u001b[0;34m=\u001b[0m \u001b[0mio\u001b[0m\u001b[0;34m.\u001b[0m\u001b[0mBytesIO\u001b[0m\u001b[0;34m(\u001b[0m\u001b[0;34m)\u001b[0m\u001b[0;34m\u001b[0m\u001b[0m\n",
      "\u001b[0;31mNameError\u001b[0m: name 'PiCamera' is not defined"
     ]
    }
   ],
   "source": [
    "with PiCamera() as camera:\n",
    "    #camera.rotation = 180\n",
    "    camera.resolution = (341, 256)    \n",
    "    time.sleep(1)\n",
    "    stream = io.BytesIO()\n",
    "    for i, _ in enumerate(camera.capture_continuous(stream, format='jpeg', burst=True)):\n",
    "        tic = time.time()\n",
    "        image = np.array(Image.open(stream))\n",
    "        stream.truncate()\n",
    "        stream.seek(0)\n",
    "        stream.flush()\n",
    "        output = detector.detect_face(image)\n",
    "        if output is not None:\n",
    "            output = output[0][0].tolist()\n",
    "            if output[4] > 0.95:\n",
    "                x1, y1, x2, y2, score = output\n",
    "                plt.plot([x1, x2], [y1, y2], \"o\")\n",
    "                x1 /= max(0, camera.resolution[0])\n",
    "                x2 /= max(0, camera.resolution[0])\n",
    "                y1 /= max(0, camera.resolution[1])\n",
    "                y2 /= max(0, camera.resolution[1])\n",
    "                \n",
    "                area_ratio = (x2-x1)*(y2-y1) - 0.25\n",
    "                clock_turn = (x2 + x1)/2 - 0.5\n",
    "                high_low = (y2 + y1)/2 - 0.5\n",
    "                \n",
    "                move_robot(robot, robot.LEFT_RIGHT, clock_turn)\n",
    "                move_robot(robot, robot.UP_DOWN, high_low)\n",
    "                move_robot(robot, robot.CLOSE_FAR, area_ratio)\n",
    "                \n",
    "                plt.imshow(image)\n",
    "                plt.show()\n",
    "        if i > 20:\n",
    "            break"
   ]
  },
  {
   "cell_type": "code",
   "execution_count": 24,
   "metadata": {},
   "outputs": [
    {
     "data": {
      "text/plain": [
       "-0.23739798362653625"
      ]
     },
     "execution_count": 24,
     "metadata": {},
     "output_type": "execute_result"
    }
   ],
   "source": [
    "left_right"
   ]
  },
  {
   "cell_type": "code",
   "execution_count": null,
   "metadata": {},
   "outputs": [],
   "source": []
  }
 ],
 "metadata": {
  "kernelspec": {
   "display_name": "Python 2",
   "language": "python",
   "name": "python2"
  },
  "language_info": {
   "codemirror_mode": {
    "name": "ipython",
    "version": 2
   },
   "file_extension": ".py",
   "mimetype": "text/x-python",
   "name": "python",
   "nbconvert_exporter": "python",
   "pygments_lexer": "ipython2",
   "version": "2.7.13"
  }
 },
 "nbformat": 4,
 "nbformat_minor": 2
}
